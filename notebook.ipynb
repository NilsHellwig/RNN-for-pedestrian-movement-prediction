{
  "nbformat": 4,
  "nbformat_minor": 0,
  "metadata": {
    "kernelspec": {
      "display_name": "Python 3",
      "language": "python",
      "name": "python3"
    },
    "language_info": {
      "codemirror_mode": {
        "name": "ipython",
        "version": 3
      },
      "file_extension": ".py",
      "mimetype": "text/x-python",
      "name": "python",
      "nbconvert_exporter": "python",
      "pygments_lexer": "ipython3",
      "version": "3.7.3"
    },
    "colab": {
      "name": "notebook.ipynb",
      "provenance": [],
      "collapsed_sections": [
        "E9XzN3kGpKKJ",
        "E7lC888rpKKK",
        "BozW2-IhpKKK",
        "vYEdm-8NpKKR",
        "U-i2VcdhpKKS"
      ]
    }
  },
  "cells": [
    {
      "cell_type": "markdown",
      "metadata": {
        "id": "IifAU3YmpKJ6"
      },
      "source": [
        "# RNN zur Vorhersage der Position von Verkehrsteilnehmern"
      ]
    },
    {
      "cell_type": "markdown",
      "metadata": {
        "id": "xmuB2Q9YpKJ9"
      },
      "source": [
        "## Verwendete Packages"
      ]
    },
    {
      "cell_type": "code",
      "metadata": {
        "id": "z3s-ZUhdpKJ-"
      },
      "source": [
        "from tensorflow.keras.layers import LSTM, Dense, Activation\n",
        "from sklearn.model_selection import train_test_split\n",
        "from sklearn.metrics import mean_absolute_error\n",
        "from sklearn.preprocessing import StandardScaler\n",
        "from tensorflow.keras.models import Sequential\n",
        "from sklearn.metrics import mean_squared_error\n",
        "from tensorflow.keras import optimizers\n",
        "import matplotlib.pyplot as plt\n",
        "from tensorflow import keras\n",
        "import requests\n",
        "import random\n",
        "from random import randint\n",
        "import tensorflow as tf\n",
        "import pandas as pd\n",
        "import numpy as np\n",
        "import zipfile\n",
        "import urllib\n",
        "import glob\n",
        "import math"
      ],
      "execution_count": null,
      "outputs": []
    },
    {
      "cell_type": "markdown",
      "metadata": {
        "id": "qhNFAqd4pKJ_"
      },
      "source": [
        "## Einstellungen\n",
        "So, wie in der Übung habe ich ganz am Ende des Implementierens für numpy, random und tensorflow einen Seed<br>\n",
        "festgelegt, damit für den Projektbericht reproduzierbare Ergebnisse vorliegen ([Quelle](https://machinelearningmastery.com/reproducible-results-neural-networks-keras/))."
      ]
    },
    {
      "cell_type": "code",
      "metadata": {
        "id": "P9shasTipKKA"
      },
      "source": [
        "def random_seed(seed=2021):\n",
        "    np.random.seed(seed)\n",
        "    random.seed(seed)\n",
        "    tf.random.set_seed(seed)\n",
        "random_seed()"
      ],
      "execution_count": null,
      "outputs": []
    },
    {
      "cell_type": "code",
      "metadata": {
        "id": "5DWOp4d8pKKA"
      },
      "source": [
        "plt.rcParams[\"figure.figsize\"] = (14,8)"
      ],
      "execution_count": null,
      "outputs": []
    },
    {
      "cell_type": "markdown",
      "metadata": {
        "id": "Uv8sIcVepKKB"
      },
      "source": [
        "## Laden der .txt-Dateien\n",
        "\n",
        "Zunächst sollen alle .txt-Dateien zusammengetragen werden."
      ]
    },
    {
      "cell_type": "code",
      "source": [
        "url = 'https://homepages.ur.de/~hen58277/09_data.zip'\n",
        "extract_dir = \"Data\"\n",
        "\n",
        "zip_path, _ = urllib.request.urlretrieve(url)\n",
        "with zipfile.ZipFile(zip_path, \"r\") as f:\n",
        "    f.extractall(extract_dir)"
      ],
      "metadata": {
        "id": "PPvmlo9nLzy6"
      },
      "execution_count": 11,
      "outputs": []
    },
    {
      "cell_type": "code",
      "metadata": {
        "colab": {
          "base_uri": "https://localhost:8080/",
          "height": 424
        },
        "id": "yqIsKnWFpKKC",
        "outputId": "831a602b-cfea-4d91-ce26-fb1a25347878"
      },
      "source": [
        "# Dateinamen der .txt-Dateien ermitteln, die sich im Ordner Data/ befinden.\n",
        "files = glob.glob(\"Data/09_data/*.txt\")\n",
        "\n",
        "# Die Daten zu den Fußgängern sollen in einem Dataframe gesammelt werden.\n",
        "df = None\n",
        "\n",
        "# Die Textdateien sollen alphabetisch sortiert werden, damit wir reproduzierbare\n",
        "# Ergebnisse erhalten bei verschiedenen Laufzeiten. Die Textdateien werden von unterschiedlichen\n",
        "# Laufzeitumgebungen in unterschiedlicher Reihenfolge eingelesen.\n",
        "files.sort()\n",
        "\n",
        "for f in files:\n",
        "    txt = pd.read_csv(f,delimiter=\" \",header=None)\n",
        "    if df is None:\n",
        "        df = txt\n",
        "    else:\n",
        "        df = df.append(txt)\n",
        "\n",
        "# Spalten umbenennen, der Übersichtlichkeit halber.\n",
        "df = df.set_axis(['timestamp', 'pedestrian_id', 'x', 'y'], axis=1, inplace=False)\n",
        "\n",
        "# Durch das Zusammentragen der Dataframes der jeweiligen .txt-Datei \n",
        "# ist der Index nicht mehr individuell für jede Zeile des Dataframes.\n",
        "# Daher wird hier das Zurücksetzen des Index ausgeführt.\n",
        "df = df.reset_index(drop=True) \n",
        "\n",
        "# Geben wir nun das Ergebnis aus. \n",
        "df"
      ],
      "execution_count": 12,
      "outputs": [
        {
          "output_type": "execute_result",
          "data": {
            "text/html": [
              "\n",
              "  <div id=\"df-2bb976b1-50a1-4019-a26f-cc44b47e30bc\">\n",
              "    <div class=\"colab-df-container\">\n",
              "      <div>\n",
              "<style scoped>\n",
              "    .dataframe tbody tr th:only-of-type {\n",
              "        vertical-align: middle;\n",
              "    }\n",
              "\n",
              "    .dataframe tbody tr th {\n",
              "        vertical-align: top;\n",
              "    }\n",
              "\n",
              "    .dataframe thead th {\n",
              "        text-align: right;\n",
              "    }\n",
              "</style>\n",
              "<table border=\"1\" class=\"dataframe\">\n",
              "  <thead>\n",
              "    <tr style=\"text-align: right;\">\n",
              "      <th></th>\n",
              "      <th>timestamp</th>\n",
              "      <th>pedestrian_id</th>\n",
              "      <th>x</th>\n",
              "      <th>y</th>\n",
              "    </tr>\n",
              "  </thead>\n",
              "  <tbody>\n",
              "    <tr>\n",
              "      <th>0</th>\n",
              "      <td>0</td>\n",
              "      <td>100</td>\n",
              "      <td>1.728</td>\n",
              "      <td>14.378</td>\n",
              "    </tr>\n",
              "    <tr>\n",
              "      <th>1</th>\n",
              "      <td>12</td>\n",
              "      <td>100</td>\n",
              "      <td>2.035</td>\n",
              "      <td>14.378</td>\n",
              "    </tr>\n",
              "    <tr>\n",
              "      <th>2</th>\n",
              "      <td>24</td>\n",
              "      <td>100</td>\n",
              "      <td>2.342</td>\n",
              "      <td>14.378</td>\n",
              "    </tr>\n",
              "    <tr>\n",
              "      <th>3</th>\n",
              "      <td>36</td>\n",
              "      <td>100</td>\n",
              "      <td>2.630</td>\n",
              "      <td>14.378</td>\n",
              "    </tr>\n",
              "    <tr>\n",
              "      <th>4</th>\n",
              "      <td>48</td>\n",
              "      <td>100</td>\n",
              "      <td>2.937</td>\n",
              "      <td>14.416</td>\n",
              "    </tr>\n",
              "    <tr>\n",
              "      <th>...</th>\n",
              "      <td>...</td>\n",
              "      <td>...</td>\n",
              "      <td>...</td>\n",
              "      <td>...</td>\n",
              "    </tr>\n",
              "    <tr>\n",
              "      <th>108115</th>\n",
              "      <td>11424</td>\n",
              "      <td>273</td>\n",
              "      <td>-27.961</td>\n",
              "      <td>18.169</td>\n",
              "    </tr>\n",
              "    <tr>\n",
              "      <th>108116</th>\n",
              "      <td>11436</td>\n",
              "      <td>273</td>\n",
              "      <td>-28.388</td>\n",
              "      <td>17.967</td>\n",
              "    </tr>\n",
              "    <tr>\n",
              "      <th>108117</th>\n",
              "      <td>11448</td>\n",
              "      <td>273</td>\n",
              "      <td>-28.747</td>\n",
              "      <td>17.787</td>\n",
              "    </tr>\n",
              "    <tr>\n",
              "      <th>108118</th>\n",
              "      <td>11460</td>\n",
              "      <td>273</td>\n",
              "      <td>-29.107</td>\n",
              "      <td>17.608</td>\n",
              "    </tr>\n",
              "    <tr>\n",
              "      <th>108119</th>\n",
              "      <td>11472</td>\n",
              "      <td>273</td>\n",
              "      <td>-29.354</td>\n",
              "      <td>17.428</td>\n",
              "    </tr>\n",
              "  </tbody>\n",
              "</table>\n",
              "<p>108120 rows × 4 columns</p>\n",
              "</div>\n",
              "      <button class=\"colab-df-convert\" onclick=\"convertToInteractive('df-2bb976b1-50a1-4019-a26f-cc44b47e30bc')\"\n",
              "              title=\"Convert this dataframe to an interactive table.\"\n",
              "              style=\"display:none;\">\n",
              "        \n",
              "  <svg xmlns=\"http://www.w3.org/2000/svg\" height=\"24px\"viewBox=\"0 0 24 24\"\n",
              "       width=\"24px\">\n",
              "    <path d=\"M0 0h24v24H0V0z\" fill=\"none\"/>\n",
              "    <path d=\"M18.56 5.44l.94 2.06.94-2.06 2.06-.94-2.06-.94-.94-2.06-.94 2.06-2.06.94zm-11 1L8.5 8.5l.94-2.06 2.06-.94-2.06-.94L8.5 2.5l-.94 2.06-2.06.94zm10 10l.94 2.06.94-2.06 2.06-.94-2.06-.94-.94-2.06-.94 2.06-2.06.94z\"/><path d=\"M17.41 7.96l-1.37-1.37c-.4-.4-.92-.59-1.43-.59-.52 0-1.04.2-1.43.59L10.3 9.45l-7.72 7.72c-.78.78-.78 2.05 0 2.83L4 21.41c.39.39.9.59 1.41.59.51 0 1.02-.2 1.41-.59l7.78-7.78 2.81-2.81c.8-.78.8-2.07 0-2.86zM5.41 20L4 18.59l7.72-7.72 1.47 1.35L5.41 20z\"/>\n",
              "  </svg>\n",
              "      </button>\n",
              "      \n",
              "  <style>\n",
              "    .colab-df-container {\n",
              "      display:flex;\n",
              "      flex-wrap:wrap;\n",
              "      gap: 12px;\n",
              "    }\n",
              "\n",
              "    .colab-df-convert {\n",
              "      background-color: #E8F0FE;\n",
              "      border: none;\n",
              "      border-radius: 50%;\n",
              "      cursor: pointer;\n",
              "      display: none;\n",
              "      fill: #1967D2;\n",
              "      height: 32px;\n",
              "      padding: 0 0 0 0;\n",
              "      width: 32px;\n",
              "    }\n",
              "\n",
              "    .colab-df-convert:hover {\n",
              "      background-color: #E2EBFA;\n",
              "      box-shadow: 0px 1px 2px rgba(60, 64, 67, 0.3), 0px 1px 3px 1px rgba(60, 64, 67, 0.15);\n",
              "      fill: #174EA6;\n",
              "    }\n",
              "\n",
              "    [theme=dark] .colab-df-convert {\n",
              "      background-color: #3B4455;\n",
              "      fill: #D2E3FC;\n",
              "    }\n",
              "\n",
              "    [theme=dark] .colab-df-convert:hover {\n",
              "      background-color: #434B5C;\n",
              "      box-shadow: 0px 1px 3px 1px rgba(0, 0, 0, 0.15);\n",
              "      filter: drop-shadow(0px 1px 2px rgba(0, 0, 0, 0.3));\n",
              "      fill: #FFFFFF;\n",
              "    }\n",
              "  </style>\n",
              "\n",
              "      <script>\n",
              "        const buttonEl =\n",
              "          document.querySelector('#df-2bb976b1-50a1-4019-a26f-cc44b47e30bc button.colab-df-convert');\n",
              "        buttonEl.style.display =\n",
              "          google.colab.kernel.accessAllowed ? 'block' : 'none';\n",
              "\n",
              "        async function convertToInteractive(key) {\n",
              "          const element = document.querySelector('#df-2bb976b1-50a1-4019-a26f-cc44b47e30bc');\n",
              "          const dataTable =\n",
              "            await google.colab.kernel.invokeFunction('convertToInteractive',\n",
              "                                                     [key], {});\n",
              "          if (!dataTable) return;\n",
              "\n",
              "          const docLinkHtml = 'Like what you see? Visit the ' +\n",
              "            '<a target=\"_blank\" href=https://colab.research.google.com/notebooks/data_table.ipynb>data table notebook</a>'\n",
              "            + ' to learn more about interactive tables.';\n",
              "          element.innerHTML = '';\n",
              "          dataTable['output_type'] = 'display_data';\n",
              "          await google.colab.output.renderOutput(dataTable, element);\n",
              "          const docLink = document.createElement('div');\n",
              "          docLink.innerHTML = docLinkHtml;\n",
              "          element.appendChild(docLink);\n",
              "        }\n",
              "      </script>\n",
              "    </div>\n",
              "  </div>\n",
              "  "
            ],
            "text/plain": [
              "        timestamp  pedestrian_id       x       y\n",
              "0               0            100   1.728  14.378\n",
              "1              12            100   2.035  14.378\n",
              "2              24            100   2.342  14.378\n",
              "3              36            100   2.630  14.378\n",
              "4              48            100   2.937  14.416\n",
              "...           ...            ...     ...     ...\n",
              "108115      11424            273 -27.961  18.169\n",
              "108116      11436            273 -28.388  17.967\n",
              "108117      11448            273 -28.747  17.787\n",
              "108118      11460            273 -29.107  17.608\n",
              "108119      11472            273 -29.354  17.428\n",
              "\n",
              "[108120 rows x 4 columns]"
            ]
          },
          "metadata": {},
          "execution_count": 12
        }
      ]
    },
    {
      "cell_type": "markdown",
      "metadata": {
        "id": "TYB9rkPXpKKE"
      },
      "source": [
        "# 1. Datenvorverarbeitung"
      ]
    },
    {
      "cell_type": "markdown",
      "metadata": {
        "id": "T_3tdvIfpKKF"
      },
      "source": [
        "## 1.0 Betrachtung der einzelnen Beispiele"
      ]
    },
    {
      "cell_type": "code",
      "metadata": {
        "colab": {
          "base_uri": "https://localhost:8080/"
        },
        "id": "wEf9L0N1pKKF",
        "outputId": "80aca585-36be-4a18-c447-b5982ec900b8"
      },
      "source": [
        "# Die Anzahl an Datenpunkten möchten wir zunächst in n_examples speichern.\n",
        "example_range = 20\n",
        "n_examples = int(df.shape[0] / example_range)\n",
        "print(\"Anzahl an Beispiele: \", n_examples)"
      ],
      "execution_count": null,
      "outputs": [
        {
          "output_type": "stream",
          "text": [
            "Anzahl an Beispiele:  5406\n"
          ],
          "name": "stdout"
        }
      ]
    },
    {
      "cell_type": "code",
      "metadata": {
        "id": "g8qsYP1ZpKKF"
      },
      "source": [
        "# Diese Funktion gibt die Koordinaten eines Datenpunkts zurück (Rückgabe -> shape = (20, 2)).\n",
        "def get_pedestrian_coordinates(pedestrian_df):\n",
        "    \n",
        "    # Nun sollen die x / y Werte in gewöhnlichen Listen gespeichert werden.\n",
        "    x, y = pedestrian_df['x'].tolist() , pedestrian_df['y'].tolist()\n",
        "    \n",
        "    # Die 20 Koordinaten sollen in dem Array pedestrian_array gespeichert werden.\n",
        "    pedestrian_array = np.array([])\n",
        "    \n",
        "    # Die Koordinaten speichern wir nun als Paare (inklusive Reshaping).\n",
        "    for i in range(len(x)):\n",
        "        pedestrian_array = np.append(pedestrian_array,[x[i],y[i]])\n",
        "    pedestrian_array = pedestrian_array.reshape(example_range,2)\n",
        "    return pedestrian_array"
      ],
      "execution_count": null,
      "outputs": []
    },
    {
      "cell_type": "code",
      "metadata": {
        "colab": {
          "base_uri": "https://localhost:8080/"
        },
        "id": "e1SVYviDpKKG",
        "outputId": "3ee40c7c-afd9-465a-9e4b-38e939279c87"
      },
      "source": [
        "X_raw = np.array([])\n",
        "\n",
        "for example in range(n_examples):\n",
        "    # Den Dataframe eines einzelnen Beispiels speichern wir zunächst pedestrian_df. \n",
        "    pedestrian_df = df[example*example_range:example*example_range+example_range]\n",
        "    pedestrian_coordinates = get_pedestrian_coordinates(pedestrian_df)\n",
        "\n",
        "    X_raw = np.append(X_raw,pedestrian_coordinates)\n",
        "    \n",
        "X_raw = X_raw.reshape(n_examples,40)\n",
        "\n",
        "# Die Datenpunkte werden nun noch gemischt, damit möglichst aus jeder .txt-Datei Beispiele in einem\n",
        "# zukünftigen Train/Test Datensatz sind. Dies wird bereits jetzt gemacht, da die übliche train_test_split-Funktion\n",
        "# von sklearn zwar shuffle unterstützt, es hier aber meiner Erkenntnis nach unmöglich ist, bei den gemischten Datenpunkten im Delta-Format\n",
        "# zurückzuverfolgen, zu welchen tatsächlichen Beispielen bzw. x/y Wertepaaren diese gehören. Allein aus Delta-Werten kann man ohne z.B. die Startposition\n",
        "# zu kennen schließlich nicht schließen, wie die dazugehörige Trajektorie lautet. \n",
        "np.random.shuffle(X_raw)\n",
        "    \n",
        "# Damit jeder Index von X_raw einem Datenpunkt entspricht, wird nun noch ein Reshaping vorgenommen. \n",
        "X_raw = X_raw.reshape(n_examples,example_range,2)\n",
        "\n",
        "# Geben wir nun mal das letzte Beispiel probeweise aus.\n",
        "print(\"Beispiel Nr. \",n_examples,\"\\n \\n\",X_raw[n_examples-1])"
      ],
      "execution_count": null,
      "outputs": [
        {
          "output_type": "stream",
          "text": [
            "Beispiel Nr.  5406 \n",
            " \n",
            " [[-24.293 -15.315]\n",
            " [-24.293 -15.315]\n",
            " [-24.293 -15.315]\n",
            " [-24.293 -15.315]\n",
            " [-24.293 -15.315]\n",
            " [-24.293 -15.315]\n",
            " [-24.293 -15.315]\n",
            " [-24.293 -15.315]\n",
            " [-24.293 -15.315]\n",
            " [-24.293 -15.315]\n",
            " [-24.293 -15.315]\n",
            " [-24.293 -15.315]\n",
            " [-24.293 -15.315]\n",
            " [-24.293 -15.315]\n",
            " [-24.293 -15.315]\n",
            " [-24.293 -15.315]\n",
            " [-24.293 -15.275]\n",
            " [-24.334 -15.275]\n",
            " [-24.334 -15.275]\n",
            " [-24.334 -15.275]]\n"
          ],
          "name": "stdout"
        }
      ]
    },
    {
      "cell_type": "markdown",
      "metadata": {
        "id": "GwNTlN-YpKKH"
      },
      "source": [
        "## 1.1 Berechnung der relativen Änderung zwischen zwei Zeitpunkten (Delta)"
      ]
    },
    {
      "cell_type": "code",
      "metadata": {
        "id": "5ECOpGPhpKKH"
      },
      "source": [
        "# Diese Funktion gibt für 20 Messungen von x oder y (einer Dimension) die daraus resultierenden 20 relative Änderung (Delta Wert)zurück. (Teilaufgabe 1.1)\n",
        "def calculate_delta_for_array(raw_array):\n",
        "    start_point = raw_array[0]\n",
        "    delta_array = []\n",
        "    for i in range(len(raw_array)):\n",
        "        if i == 0:\n",
        "            delta_array.append(0)\n",
        "        else:\n",
        "            delta_array.append(raw_array[i] - raw_array[i-1])\n",
        "    return delta_array\n",
        "\n",
        "# Beispiel aus der schriftlichen Ausarbeitung (Dafür Kommentar '#' entfernen)\n",
        "# print(\"x-Werte absolut:\\n\\n\",[10,11,12,13,14,15,16,17,18,19,20,21,22,23,24,25,26,27,28,29],\"\\n\\nX-Werte relativ:\\n\\n\",calculate_delta_for_array([10,11,12,13,14,15,16,17,18,19,20,21,22,23,24,25,26,27,28,29]))"
      ],
      "execution_count": null,
      "outputs": []
    },
    {
      "cell_type": "code",
      "metadata": {
        "colab": {
          "base_uri": "https://localhost:8080/"
        },
        "id": "UCh1aXuupKKI",
        "outputId": "3715d33f-b7da-4760-f400-4e1893e28769"
      },
      "source": [
        "# Wie in Teilaufgabe 1.1 beschrieben, möchten wir nur die relative Änderung betrachten. Diese berechnen wir nun.\n",
        "X_raw_delta = X_raw.copy()\n",
        "for i, x in enumerate(X_raw_delta):\n",
        "    X_coordinates = calculate_delta_for_array(x[:,0])\n",
        "    Y_coordinates = calculate_delta_for_array(x[:,1])\n",
        "    for m in range(len(X_raw_delta[i])):\n",
        "        X_raw_delta[i][m][0] = X_coordinates[m]\n",
        "        X_raw_delta[i][m][1] = Y_coordinates[m]\n",
        "\n",
        "# Nachdem wir nun die relativen Änderungen von jedem der 20 Messungen berechnet haben ergibt sich nun:\n",
        "print(\"Originales Beispiel Nr. 1: \\n\\n\",X_raw[0],\"\\n\\n Nr. 1 nach Berechnung der relativen Änderung: \\n\\n\",X_raw_delta[0])"
      ],
      "execution_count": null,
      "outputs": [
        {
          "output_type": "stream",
          "text": [
            "Originales Beispiel Nr. 1: \n",
            "\n",
            " [[ 16.208 -10.644]\n",
            " [ 16.208 -10.644]\n",
            " [ 16.208 -10.644]\n",
            " [ 16.208 -10.644]\n",
            " [ 16.208 -10.644]\n",
            " [ 16.208 -10.644]\n",
            " [ 16.208 -10.644]\n",
            " [ 16.208 -10.644]\n",
            " [ 16.208 -10.644]\n",
            " [ 16.208 -10.644]\n",
            " [ 16.208 -10.644]\n",
            " [ 16.208 -10.644]\n",
            " [ 16.208 -10.644]\n",
            " [ 16.208 -10.644]\n",
            " [ 16.208 -10.644]\n",
            " [ 16.208 -10.644]\n",
            " [ 16.208 -10.644]\n",
            " [ 16.208 -10.644]\n",
            " [ 16.208 -10.644]\n",
            " [ 16.208 -10.644]] \n",
            "\n",
            " Nr. 1 nach Berechnung der relativen Änderung: \n",
            "\n",
            " [[0. 0.]\n",
            " [0. 0.]\n",
            " [0. 0.]\n",
            " [0. 0.]\n",
            " [0. 0.]\n",
            " [0. 0.]\n",
            " [0. 0.]\n",
            " [0. 0.]\n",
            " [0. 0.]\n",
            " [0. 0.]\n",
            " [0. 0.]\n",
            " [0. 0.]\n",
            " [0. 0.]\n",
            " [0. 0.]\n",
            " [0. 0.]\n",
            " [0. 0.]\n",
            " [0. 0.]\n",
            " [0. 0.]\n",
            " [0. 0.]\n",
            " [0. 0.]]\n"
          ],
          "name": "stdout"
        }
      ]
    },
    {
      "cell_type": "markdown",
      "metadata": {
        "id": "1xC8-3KgpKKI"
      },
      "source": [
        "## 1.2 Weitere Vorverarbeitungsschritte\n",
        "### 1.2.1 Erstellung der ersten acht und zukünftigen Messungenen (8 -> 12 Messungen)"
      ]
    },
    {
      "cell_type": "code",
      "metadata": {
        "id": "fZhO9dxCpKKI"
      },
      "source": [
        "X = np.array([])\n",
        "Y = np.array([])\n",
        "for index in range(len(X_raw_delta)):\n",
        "    # X speichert die ersten 8 Positionen eines Datenpunkts.\n",
        "    X = np.append(X, X_raw_delta[index][:8])\n",
        "    # Y speichert die letzten 12 Positionen eiens Datenpunkts.\n",
        "    Y = np.append(Y, X_raw_delta[index][8:20])\n",
        "\n",
        "X = X.reshape(n_examples,8,2)\n",
        "Y = Y.reshape(n_examples,12,2)\n",
        "# Um Transformation eines Beispiels auszugeben, bitte den das Kommentarzeichen '#' eine Zeile drunter entfernen.\n",
        "# print(\"Beispiel Nr. 1: \\n\\n\", \"X: \\n\\n\",X[0], \"\\n\\n Y: \\n\\n\",Y[0], \"\\n\\n Vor Erstellung der beiden Blöcke: \\n\\n\",X_raw_delta[0])"
      ],
      "execution_count": null,
      "outputs": []
    },
    {
      "cell_type": "markdown",
      "metadata": {
        "id": "nw8DvPJYpKKJ"
      },
      "source": [
        "Wir haben nun also zum Trainieren Messungen für 8 Zeitpunkte(X) und wollen die darauffolgenden 12 (Y) vorhersagen. "
      ]
    },
    {
      "cell_type": "markdown",
      "metadata": {
        "id": "E9XzN3kGpKKJ"
      },
      "source": [
        "### 1.2.2 Erstellung von Trainings- und Testdatensatz\n",
        "\n",
        "Wir teilen den Datensatz nun in Trainingsdaten(80%) und Testdaten(20%). Wir mischen die Daten nicht (shuffle=False), da dies nicht nochmal erforderlich ist."
      ]
    },
    {
      "cell_type": "code",
      "metadata": {
        "colab": {
          "base_uri": "https://localhost:8080/"
        },
        "id": "WWmPvaKFpKKJ",
        "outputId": "77cd4c96-f49a-4e66-bb70-f4beac30e8f8"
      },
      "source": [
        "X_train, X_test, Y_train, Y_test = train_test_split(X, Y, test_size=0.2, shuffle=False)\n",
        "print(\"Anzahl an Trainingsdaten: \",len(X_train))\n",
        "print(\"Anzahl an Testdaten: \", len(X_test))\n",
        "train_size = len(X_train)\n",
        "test_size = len(X_test)"
      ],
      "execution_count": null,
      "outputs": [
        {
          "output_type": "stream",
          "text": [
            "Anzahl an Trainingsdaten:  4324\n",
            "Anzahl an Testdaten:  1082\n"
          ],
          "name": "stdout"
        }
      ]
    },
    {
      "cell_type": "markdown",
      "metadata": {
        "id": "E7lC888rpKKK"
      },
      "source": [
        "### 1.2.3 Anpassung der Form der Daten"
      ]
    },
    {
      "cell_type": "markdown",
      "metadata": {
        "id": "2qlD1-EYpKKK"
      },
      "source": [
        "Dann wird noch ein Reshaping auf die Trainingsdaten angewendet."
      ]
    },
    {
      "cell_type": "code",
      "metadata": {
        "id": "k2OwJ1USpKKK"
      },
      "source": [
        "# Anzahl an Zahlen, die wir vorhersagen möchten (12 timestamps * 2 values (x,y)).\n",
        "n_predict = 24\n",
        "Y_train = Y_train.reshape(len(Y_train),n_predict)\n",
        "Y_test = Y_test.reshape(len(Y_test),n_predict)"
      ],
      "execution_count": null,
      "outputs": []
    },
    {
      "cell_type": "markdown",
      "metadata": {
        "id": "BozW2-IhpKKK"
      },
      "source": [
        "### 1.2.4 Traineren eines Scalers anhand der Trainingsdaten"
      ]
    },
    {
      "cell_type": "code",
      "metadata": {
        "id": "CgRg85RmpKKK"
      },
      "source": [
        "# Skalieren wir nun noch die Daten.\n",
        "scaler = StandardScaler()\n",
        "\n",
        "# Passen wir nun den Scaler auf unsere Daten an. Hierfür verwenden wir X_train und Y_train.\n",
        "# Der Scaler wird sowohl für die x-Koordinaten als auch für die y-Koordinaten gefittet. Daher ist der shape von data_scaled (n,2).\n",
        "data_scaled =  np.append(X_train.reshape(-1,1), Y_train.reshape(-1,1)).reshape(int((len(X_train.reshape(-1,1)) + len(Y_train.reshape(-1,1)) ) / 2),2)\n",
        "scaler.fit(data_scaled)\n",
        "\n",
        "X_train = scaler.transform(X_train.reshape(-1,2)).reshape(X_train.shape)\n",
        "Y_train = scaler.transform(Y_train.reshape(-1,2)).reshape(Y_train.shape)"
      ],
      "execution_count": null,
      "outputs": []
    },
    {
      "cell_type": "markdown",
      "metadata": {
        "id": "5HG_s27PpKKL"
      },
      "source": [
        "# 2. Training des neuronalen Netzes"
      ]
    },
    {
      "cell_type": "markdown",
      "metadata": {
        "id": "5ZmLTR5QpKKL"
      },
      "source": [
        "## 2.1 Erstellung der Architektur"
      ]
    },
    {
      "cell_type": "code",
      "metadata": {
        "id": "mgCE0EimpKKL"
      },
      "source": [
        "epochs = 20\n",
        "time_steps = 8\n",
        "\n",
        "def build_model():\n",
        "    model = Sequential()\n",
        "    model.add(LSTM(units=8, input_shape=(time_steps, 2)))\n",
        "    model.add(Dense(n_predict, activation='linear'))\n",
        "    model.compile(loss='mse', optimizer=\"adam\", metrics=['mae'])\n",
        "    return model"
      ],
      "execution_count": null,
      "outputs": []
    },
    {
      "cell_type": "markdown",
      "metadata": {
        "id": "UfY6RhdzpKKL"
      },
      "source": [
        "## 2.2 Training"
      ]
    },
    {
      "cell_type": "code",
      "metadata": {
        "colab": {
          "base_uri": "https://localhost:8080/"
        },
        "id": "2et_WBshpKKL",
        "outputId": "77dedba8-9e32-4a3d-8ee6-e0f147ccdc3d"
      },
      "source": [
        "model = build_model()\n",
        "model.summary()\n",
        "# Um auch die Performance auf ungesehenen Daten in einer Graphik dazustelllen bzw. um Hyperparamter zu optimieren, spezifizieren wir, dass 20% zur Validation genommen werden sollen.\n",
        "# Wir möchten uns außerdem den Verlauf des Trainings darstellen lassen. Daher speichern wir diesen in der Variable history.\n",
        "history = model.fit(X_train, Y_train, epochs=epochs, verbose=1, validation_split=0.2)"
      ],
      "execution_count": null,
      "outputs": [
        {
          "output_type": "stream",
          "text": [
            "Model: \"sequential_2\"\n",
            "_________________________________________________________________\n",
            "Layer (type)                 Output Shape              Param #   \n",
            "=================================================================\n",
            "lstm_2 (LSTM)                (None, 8)                 352       \n",
            "_________________________________________________________________\n",
            "dense_2 (Dense)              (None, 24)                216       \n",
            "=================================================================\n",
            "Total params: 568\n",
            "Trainable params: 568\n",
            "Non-trainable params: 0\n",
            "_________________________________________________________________\n",
            "Epoch 1/20\n",
            "109/109 [==============================] - 3s 9ms/step - loss: 0.8937 - mae: 0.5582 - val_loss: 0.6796 - val_mae: 0.5167\n",
            "Epoch 2/20\n",
            "109/109 [==============================] - 1s 5ms/step - loss: 0.7213 - mae: 0.4836 - val_loss: 0.5353 - val_mae: 0.4449\n",
            "Epoch 3/20\n",
            "109/109 [==============================] - 1s 5ms/step - loss: 0.5953 - mae: 0.4133 - val_loss: 0.4412 - val_mae: 0.3853\n",
            "Epoch 4/20\n",
            "109/109 [==============================] - 1s 5ms/step - loss: 0.5176 - mae: 0.3639 - val_loss: 0.3919 - val_mae: 0.3470\n",
            "Epoch 5/20\n",
            "109/109 [==============================] - 1s 5ms/step - loss: 0.4772 - mae: 0.3337 - val_loss: 0.3690 - val_mae: 0.3266\n",
            "Epoch 6/20\n",
            "109/109 [==============================] - 1s 5ms/step - loss: 0.4552 - mae: 0.3144 - val_loss: 0.3551 - val_mae: 0.3126\n",
            "Epoch 7/20\n",
            "109/109 [==============================] - 1s 6ms/step - loss: 0.4419 - mae: 0.3025 - val_loss: 0.3480 - val_mae: 0.3025\n",
            "Epoch 8/20\n",
            "109/109 [==============================] - 1s 6ms/step - loss: 0.4334 - mae: 0.2931 - val_loss: 0.3427 - val_mae: 0.2961\n",
            "Epoch 9/20\n",
            "109/109 [==============================] - 1s 5ms/step - loss: 0.4275 - mae: 0.2878 - val_loss: 0.3394 - val_mae: 0.2908\n",
            "Epoch 10/20\n",
            "109/109 [==============================] - 1s 5ms/step - loss: 0.4231 - mae: 0.2832 - val_loss: 0.3379 - val_mae: 0.2890\n",
            "Epoch 11/20\n",
            "109/109 [==============================] - 1s 5ms/step - loss: 0.4201 - mae: 0.2806 - val_loss: 0.3354 - val_mae: 0.2854\n",
            "Epoch 12/20\n",
            "109/109 [==============================] - 1s 5ms/step - loss: 0.4175 - mae: 0.2785 - val_loss: 0.3335 - val_mae: 0.2840\n",
            "Epoch 13/20\n",
            "109/109 [==============================] - 1s 5ms/step - loss: 0.4155 - mae: 0.2768 - val_loss: 0.3324 - val_mae: 0.2827\n",
            "Epoch 14/20\n",
            "109/109 [==============================] - 1s 5ms/step - loss: 0.4139 - mae: 0.2754 - val_loss: 0.3326 - val_mae: 0.2809\n",
            "Epoch 15/20\n",
            "109/109 [==============================] - 1s 5ms/step - loss: 0.4126 - mae: 0.2737 - val_loss: 0.3316 - val_mae: 0.2808\n",
            "Epoch 16/20\n",
            "109/109 [==============================] - 1s 5ms/step - loss: 0.4115 - mae: 0.2736 - val_loss: 0.3308 - val_mae: 0.2791\n",
            "Epoch 17/20\n",
            "109/109 [==============================] - 1s 5ms/step - loss: 0.4108 - mae: 0.2725 - val_loss: 0.3312 - val_mae: 0.2780\n",
            "Epoch 18/20\n",
            "109/109 [==============================] - 1s 5ms/step - loss: 0.4097 - mae: 0.2721 - val_loss: 0.3313 - val_mae: 0.2782\n",
            "Epoch 19/20\n",
            "109/109 [==============================] - 1s 5ms/step - loss: 0.4090 - mae: 0.2712 - val_loss: 0.3308 - val_mae: 0.2789\n",
            "Epoch 20/20\n",
            "109/109 [==============================] - 1s 6ms/step - loss: 0.4082 - mae: 0.2713 - val_loss: 0.3306 - val_mae: 0.2769\n"
          ],
          "name": "stdout"
        }
      ]
    },
    {
      "cell_type": "code",
      "metadata": {
        "colab": {
          "base_uri": "https://localhost:8080/",
          "height": 483
        },
        "id": "SVCexuippKKM",
        "outputId": "72a35357-35e2-42e2-d2ee-0004c19cbc6a"
      },
      "source": [
        "# Da wir 20% der Trainingsdaten als Validationsdaten verwendet haben, können wir beide Kurven der Loss-Funktionen betrachten.\n",
        "# Diese Methode wurde fast identisch in der 5. Studienleistung verwendet.\n",
        "def plot_history(history):\n",
        "    fig, ax1 = plt.subplots()\n",
        "    plot_lines = []\n",
        "    plot_lines+=ax1.plot(range(1,len(history.history['loss'])+1), history.history['loss'], label=\"mse (loss)\", color=\"red\")\n",
        "    plot_lines+=ax1.plot(range(1,len(history.history['loss'])+1), history.history['val_loss'], label=\"val_mse (val_loss)\", color=\"red\", linestyle=\":\")\n",
        "    ax1.set_xticks(range(1,len(history.history['loss'])+1))\n",
        "    ax1.set_ylabel(\"Mean Square Error (loss)\", color=\"red\")\n",
        "    ax1.tick_params(axis='y', labelcolor=\"red\")\n",
        "    ax2 = ax1.twinx()\n",
        "    plot_lines+=ax2.plot(range(1,len(history.history['loss'])+1), history.history['mae'], label=\"mae\", color=\"blue\")\n",
        "    plot_lines+=ax2.plot(range(1,len(history.history['loss'])+1), history.history['val_mae'], label=\"val_mae\", color=\"blue\", linestyle=\":\")\n",
        "    ax2.set_ylabel(\"Mean Absolute Error\", color=\"blue\")\n",
        "    ax2.tick_params(axis='y', labelcolor=\"blue\")\n",
        "    all_labels = [i.get_label() for i in plot_lines]\n",
        "    ax1.legend(plot_lines, all_labels, loc=1)\n",
        "    \n",
        "plot_history(history)"
      ],
      "execution_count": null,
      "outputs": [
        {
          "output_type": "display_data",
          "data": {
            "image/png": "[encoded data removed]",
            "text/plain": [
              "<Figure size 1008x576 with 2 Axes>"
            ]
          },
          "metadata": {
            "needs_background": "light"
          }
        }
      ]
    },
    {
      "cell_type": "code",
      "metadata": {
        "colab": {
          "base_uri": "https://localhost:8080/"
        },
        "id": "boy80uU3pKKM",
        "outputId": "bbb2d238-a1b8-4cdc-d208-783cd3c80b1e"
      },
      "source": [
        "# Nun möchten wir aber alle Trainingsdaten verwenden, um unser Model zu trainieren.\n",
        "# Daher bauen/trainieren wir das Model erneut, diesmal aber ohne 20% zum Validieren zu verwenden.\n",
        "model = build_model()\n",
        "model.fit(X_train, Y_train, epochs=epochs, verbose=0)"
      ],
      "execution_count": null,
      "outputs": [
        {
          "output_type": "execute_result",
          "data": {
            "text/plain": [
              "<keras.callbacks.History at 0x7f584bea3b50>"
            ]
          },
          "metadata": {},
          "execution_count": 56
        }
      ]
    },
    {
      "cell_type": "markdown",
      "metadata": {
        "id": "NiAcIKMwpKKN"
      },
      "source": [
        "# 3. Bewertung der Ergebnisse"
      ]
    },
    {
      "cell_type": "markdown",
      "metadata": {
        "id": "8i-9f3UWpKKN"
      },
      "source": [
        "## 3.0 Vorhersagen betrachten \n",
        "Betrachten wir zunächst die Vorhersagen für die Trainingsdaten"
      ]
    },
    {
      "cell_type": "code",
      "metadata": {
        "colab": {
          "base_uri": "https://localhost:8080/"
        },
        "id": "YwdOPwekpKKN",
        "outputId": "8bac904b-5cd5-4ea3-d9f7-5d48c25a7819"
      },
      "source": [
        "delta_predictions_train = scaler.inverse_transform(model.predict(X_train).reshape(-1,2)).reshape(Y_train.shape)\n",
        "delta_predictions_train = delta_predictions_train.reshape(train_size,12,2)\n",
        "\n",
        "# Betrachten wir probeweise mal das erste Beispiel und vergleichen es mit den tatsächlichen Werten (Y_train).\n",
        "print(\"Prediction: \\n\\n\",delta_predictions_train[0])\n",
        "print(\"\\nLabel: \\n\\n\",Y_train[0].reshape(12,2))"
      ],
      "execution_count": null,
      "outputs": [
        {
          "output_type": "stream",
          "text": [
            "Prediction: \n",
            "\n",
            " [[-0.00211751  0.0052857 ]\n",
            " [-0.00206071  0.00295275]\n",
            " [ 0.00139194  0.0029946 ]\n",
            " [-0.00566402 -0.0111026 ]\n",
            " [-0.00178263  0.00024723]\n",
            " [-0.00245442 -0.0059504 ]\n",
            " [-0.00444067  0.00381452]\n",
            " [-0.00497377 -0.00387807]\n",
            " [-0.00532602 -0.00506807]\n",
            " [-0.00519252 -0.00048904]\n",
            " [-0.0089922  -0.00357349]\n",
            " [-0.00521715 -0.00545649]]\n",
            "\n",
            "Label: \n",
            "\n",
            " [[0.01541555 0.0815599 ]\n",
            " [0.01541555 0.0815599 ]\n",
            " [0.01541555 0.0815599 ]\n",
            " [0.01541555 0.0815599 ]\n",
            " [0.01541555 0.0815599 ]\n",
            " [0.01541555 0.0815599 ]\n",
            " [0.01541555 0.0815599 ]\n",
            " [0.01541555 0.0815599 ]\n",
            " [0.01541555 0.0815599 ]\n",
            " [0.01541555 0.0815599 ]\n",
            " [0.01541555 0.0815599 ]\n",
            " [0.01541555 0.0815599 ]]\n"
          ],
          "name": "stdout"
        }
      ]
    },
    {
      "cell_type": "markdown",
      "metadata": {
        "id": "LsYY8dYGpKKN"
      },
      "source": [
        "Betrachten wir nun noch die Vorhersagen für Testdaten."
      ]
    },
    {
      "cell_type": "code",
      "metadata": {
        "colab": {
          "base_uri": "https://localhost:8080/"
        },
        "id": "R93Jm9ocpKKO",
        "outputId": "d9794d73-666c-41d8-df2c-58da6c11bc99"
      },
      "source": [
        "delta_predictions_test = scaler.inverse_transform(model.predict(scaler.transform(X_test.reshape(-1,2)).reshape(X_test.shape)).reshape(-1,2)).reshape(Y_test.shape)\n",
        "delta_predictions_test = delta_predictions_test.reshape(test_size,12,2)\n",
        "\n",
        "# Betrachten wir probeweise mal das erste Beispiel und vergleichen es mit den tatsächlichen Werten (Y_test).\n",
        "print(\"Prediction: \\n\\n\",delta_predictions_test[0])\n",
        "print(\"\\nLabel: \\n\\n\",Y_test[0].reshape(12,2))"
      ],
      "execution_count": null,
      "outputs": [
        {
          "output_type": "stream",
          "text": [
            "Prediction: \n",
            "\n",
            " [[-0.00331605  0.02209085]\n",
            " [ 0.0001858   0.01729932]\n",
            " [ 0.00066437  0.02012998]\n",
            " [-0.00524929  0.00408645]\n",
            " [-0.00074841  0.01510501]\n",
            " [-0.00281477  0.01144601]\n",
            " [-0.00632687  0.01917159]\n",
            " [-0.00514385  0.01189606]\n",
            " [-0.00479305  0.01071608]\n",
            " [-0.00664219  0.01336936]\n",
            " [-0.01032893  0.00950966]\n",
            " [-0.00552701  0.00756387]]\n",
            "\n",
            "Label: \n",
            "\n",
            " [[0.    0.   ]\n",
            " [0.    0.   ]\n",
            " [0.    0.   ]\n",
            " [0.    0.   ]\n",
            " [0.038 0.   ]\n",
            " [0.    0.   ]\n",
            " [0.    0.038]\n",
            " [0.    0.   ]\n",
            " [0.    0.   ]\n",
            " [0.    0.   ]\n",
            " [0.    0.   ]\n",
            " [0.    0.   ]]\n"
          ],
          "name": "stdout"
        }
      ]
    },
    {
      "cell_type": "markdown",
      "metadata": {
        "id": "_h3unqkipKKO"
      },
      "source": [
        "Nun wollen wir die skalierten X_train und Y_train aber wieder in Delta-Werte umformatieren für den danach folgenden Code."
      ]
    },
    {
      "cell_type": "code",
      "metadata": {
        "id": "GxBzPOlkpKKO"
      },
      "source": [
        "X_train = scaler.inverse_transform(X_train.reshape(-1,2)).reshape(X_train.shape)\n",
        "Y_train = scaler.inverse_transform(Y_train.reshape(-1,2)).reshape(Y_train.shape)"
      ],
      "execution_count": null,
      "outputs": []
    },
    {
      "cell_type": "markdown",
      "metadata": {
        "id": "2M_4i3HWpKKO"
      },
      "source": [
        "## 3.1 Berechnung der zukünftigen Position in Meter"
      ]
    },
    {
      "cell_type": "code",
      "metadata": {
        "id": "iJ5vy2AXpKKO"
      },
      "source": [
        "# Zunächst brauchen wir eine Funktion, die Delta-Werte wieder in absolute x/y Werte in Meter umwandelt.\n",
        "# dataset (Array) := Der Datensatz (entweder trainig oder test), \n",
        "# isTestData (boolean) := Die Funktion muss wissen, ob es ich um Testdaten handelt\n",
        "# isPredictedSequence (boolean):= Die Funktion muss wissen, ob es sich um Trajektorien handelt, die zum Vorhesagen dienen oder um Trajektorien, die vorhergesagt werden sollen.\n",
        "def transform_to_absolute_points(dataset, isTestData, isPredictedSequence):\n",
        "    startIndex = 0\n",
        "    if isTestData:\n",
        "        startIndex = train_size\n",
        "    for i in range(len(dataset)):\n",
        "        for k in range(len(dataset[i])):\n",
        "            if k == 0:\n",
        "                if isPredictedSequence:\n",
        "                    dataset[i][k][0] , dataset[i][k][1] = X_raw[i+startIndex][k+7][0] + dataset[i][k][0] , X_raw[i+startIndex][k+7][1] + dataset[i][k][1]\n",
        "                else:\n",
        "                    dataset[i][k][0] , dataset[i][k][1] = X_raw[i+startIndex][k][0] , X_raw[i+startIndex][k][1]\n",
        "            else:\n",
        "                    dataset[i][k][0] , dataset[i][k][1] = dataset[i][k-1][0] + dataset[i][k][0] , dataset[i][k-1][1] + dataset[i][k][1]\n",
        "    return dataset"
      ],
      "execution_count": null,
      "outputs": []
    },
    {
      "cell_type": "code",
      "metadata": {
        "colab": {
          "base_uri": "https://localhost:8080/"
        },
        "id": "svlnFHrdpKKP",
        "outputId": "c2eac521-5529-46ac-ce65-96562c411768"
      },
      "source": [
        "# Dass diese Funktion funktioniert, kann man einfach mal testen, indem man die Trainingsdaten im Delta-Format\n",
        "# übergibt und dann schaut, ob diese nach Transformation übereinstimmen mit den Tatsächlichen.\n",
        "print(\"Transformation: \\n\\n\", transform_to_absolute_points(X_train[:1].copy(), False, False))\n",
        "print(\"\\nOriginal: \\n\\n\",X_raw.copy()[0][:8],\"\\n\")\n",
        "\n",
        "# Das funktioniert natürlich auch mit den Trajektorien, die vorhergesagt werden sollen.\n",
        "# Dafür einfach die '#' in den nächsten beiden Zeilen entfernen.\n",
        "# print(\"Transformation; \\n\", transform_to_absolute_points(Y_train[:1].reshape(1,12,2).copy(), False, True))\n",
        "# print(\"\\nOriginal: \\n\",X_raw[0][8:20])"
      ],
      "execution_count": null,
      "outputs": [
        {
          "output_type": "stream",
          "text": [
            "Transformation: \n",
            "\n",
            " [[[ 16.208 -10.644]\n",
            "  [ 16.208 -10.644]\n",
            "  [ 16.208 -10.644]\n",
            "  [ 16.208 -10.644]\n",
            "  [ 16.208 -10.644]\n",
            "  [ 16.208 -10.644]\n",
            "  [ 16.208 -10.644]\n",
            "  [ 16.208 -10.644]]]\n",
            "\n",
            "Original: \n",
            "\n",
            " [[ 16.208 -10.644]\n",
            " [ 16.208 -10.644]\n",
            " [ 16.208 -10.644]\n",
            " [ 16.208 -10.644]\n",
            " [ 16.208 -10.644]\n",
            " [ 16.208 -10.644]\n",
            " [ 16.208 -10.644]\n",
            " [ 16.208 -10.644]] \n",
            "\n"
          ],
          "name": "stdout"
        }
      ]
    },
    {
      "cell_type": "markdown",
      "metadata": {
        "id": "6t4dH412pKKP"
      },
      "source": [
        "## 3.2 Prädizierte Trajektorie"
      ]
    },
    {
      "cell_type": "markdown",
      "metadata": {
        "id": "Bbyx5SQhpKKP"
      },
      "source": [
        "Berechnen wir nun aber endlich anhand der Funktion die Trajektorien, die das RNN vorhersagt."
      ]
    },
    {
      "cell_type": "code",
      "metadata": {
        "id": "39qrlF6ppKKP"
      },
      "source": [
        "predicted_trajectories_train = transform_to_absolute_points(delta_predictions_train.copy(),False,True)\n",
        "predicted_trajectories_test = transform_to_absolute_points(delta_predictions_test.copy(),True,True)"
      ],
      "execution_count": null,
      "outputs": []
    },
    {
      "cell_type": "markdown",
      "metadata": {
        "id": "tUS2ydGOpKKP"
      },
      "source": [
        "Sehen wir uns nun mal probeweise die Vorhersage des 1. Beispiels unserer Testdaten an."
      ]
    },
    {
      "cell_type": "code",
      "metadata": {
        "colab": {
          "base_uri": "https://localhost:8080/"
        },
        "id": "CFEslaFrpKKP",
        "outputId": "ff59a6aa-8f4e-4dab-ec31-75587c736ea3"
      },
      "source": [
        "print(\"Prediction: \\n\\n\",predicted_trajectories_test[0],\"\\n\\nLabel: \\n\\n\",X_raw[train_size+0][8:20])"
      ],
      "execution_count": null,
      "outputs": [
        {
          "output_type": "stream",
          "text": [
            "Prediction: \n",
            "\n",
            " [[15.298684 -9.52391 ]\n",
            " [15.29887  -9.50661 ]\n",
            " [15.299535 -9.48648 ]\n",
            " [15.294286 -9.482393]\n",
            " [15.293537 -9.467288]\n",
            " [15.290722 -9.455842]\n",
            " [15.284395 -9.43667 ]\n",
            " [15.279251 -9.424774]\n",
            " [15.274458 -9.414058]\n",
            " [15.267816 -9.400688]\n",
            " [15.257486 -9.391178]\n",
            " [15.25196  -9.383615]] \n",
            "\n",
            "Label: \n",
            "\n",
            " [[15.302 -9.546]\n",
            " [15.302 -9.546]\n",
            " [15.302 -9.546]\n",
            " [15.302 -9.546]\n",
            " [15.34  -9.546]\n",
            " [15.34  -9.546]\n",
            " [15.34  -9.508]\n",
            " [15.34  -9.508]\n",
            " [15.34  -9.508]\n",
            " [15.34  -9.508]\n",
            " [15.34  -9.508]\n",
            " [15.34  -9.508]]\n"
          ],
          "name": "stdout"
        }
      ]
    },
    {
      "cell_type": "markdown",
      "metadata": {
        "id": "FP7D1pm7pKKP"
      },
      "source": [
        "Nun können wir noch vier zufällige Beispiele anzeigen lassen. <br> <b>Hinweis: </b>Die folgende Zelle kann beliebig häufig aufgerufen werden, um andere zufällige Beispiele zu betrachten.<br>Möchte man ganz bestimmte Testbeispiele eingeben, müssen einfach vier Indexe der Variable random_predictions zugeordnet werden. Also beispielsweise:<br>```random_predictions = [0,1,2,3]```, um die ersten vier auszugeben."
      ]
    },
    {
      "cell_type": "code",
      "metadata": {
        "colab": {
          "base_uri": "https://localhost:8080/",
          "height": 704
        },
        "id": "C0E9RsbqpKKQ",
        "outputId": "a4b33ae9-a213-4a89-8d9d-6aa3488927ef"
      },
      "source": [
        "plt.rcParams[\"figure.figsize\"] = (15,10)\n",
        "fig, ax = plt.subplots(nrows=2, ncols=2)\n",
        "plt.setp(ax.flat, xlabel='x-Wert', ylabel='y-Wert')\n",
        "index = 0\n",
        "\n",
        "random_predictions = [randint(0,test_size) for p in range(0,4)]\n",
        "\n",
        "for row in ax:\n",
        "    for col in row:\n",
        "        col.plot(predicted_trajectories_test[random_predictions[index]][:,0], predicted_trajectories_test[random_predictions[index]][:,1], 'rx-', label=\"Vorhersage der nächsten\\n 12 Punkte\")\n",
        "        col.plot(X_raw[train_size+random_predictions[index]][:,0][8:], X_raw[train_size+random_predictions[index]][:,1][8:], 'gx--',label=\"Tatsächliche nächste\\n 12 Punkte\")\n",
        "        col.plot(X_raw[train_size+random_predictions[index]][:,0][:8], X_raw[train_size+random_predictions[index]][:,1][:8], 'bx-', label=\"Die ersten 8 Punkte\")\n",
        "        col.title.set_text('Beispiel '+str(random_predictions[index])+' aus dem Testset')\n",
        "        col.text(X_raw[train_size+random_predictions[index]][:,0][:8][0],X_raw[train_size+random_predictions[index]][:,1][:8][0],\"Start\",color=\"b\")\n",
        "        col.text(predicted_trajectories_test[random_predictions[index]][:,0][0],predicted_trajectories_test[random_predictions[index]][:,1][0],\"Start Prediction\",color=\"r\")\n",
        "        col.text(X_raw[train_size+random_predictions[index]][:,0][8:][0],X_raw[train_size+random_predictions[index]][:,1][8:][0],\"Start Label\",color=\"g\")\n",
        "        if index == 2:\n",
        "            col.legend(loc=\"upper left\",bbox_to_anchor=(0, -0.15))\n",
        "\n",
        "        index += 1\n",
        "\n",
        "plt.show()"
      ],
      "execution_count": null,
      "outputs": [
        {
          "output_type": "display_data",
          "data": {
            "image/png": "[encoded data removed]",
            "text/plain": [
              "<Figure size 1080x720 with 4 Axes>"
            ]
          },
          "metadata": {
            "needs_background": "light"
          }
        }
      ]
    },
    {
      "cell_type": "code",
      "metadata": {
        "colab": {
          "base_uri": "https://localhost:8080/"
        },
        "id": "HQjc3N1cpKKQ",
        "outputId": "006460ab-fcc8-42a3-bde9-1faede3c6700"
      },
      "source": [
        "# Alternativ können wir auch die Trajektorie eines bestimmten Beispiels unserer Testmenge ausgeben lassen als Arrays. \n",
        "# Exemplarisch für das 1. Beispiel:\n",
        "index_of_test_data = 0\n",
        "print(\"Tatsächliche Trajektorie: \\n\\n\",X_raw[train_size+index_of_test_data])\n",
        "print(\"\\n\\nVorhergesagte Trajektorie der letzten 12 Punkte: \\n\\n\",predicted_trajectories_test[index_of_test_data])"
      ],
      "execution_count": null,
      "outputs": [
        {
          "output_type": "stream",
          "text": [
            "Tatsächliche Trajektorie: \n",
            "\n",
            " [[15.264 -9.572]\n",
            " [15.264 -9.572]\n",
            " [15.264 -9.572]\n",
            " [15.264 -9.572]\n",
            " [15.302 -9.572]\n",
            " [15.302 -9.572]\n",
            " [15.302 -9.572]\n",
            " [15.302 -9.546]\n",
            " [15.302 -9.546]\n",
            " [15.302 -9.546]\n",
            " [15.302 -9.546]\n",
            " [15.302 -9.546]\n",
            " [15.34  -9.546]\n",
            " [15.34  -9.546]\n",
            " [15.34  -9.508]\n",
            " [15.34  -9.508]\n",
            " [15.34  -9.508]\n",
            " [15.34  -9.508]\n",
            " [15.34  -9.508]\n",
            " [15.34  -9.508]]\n",
            "\n",
            "\n",
            "Vorhergesagte Trajektorie der letzten 12 Punkte: \n",
            "\n",
            " [[15.298684 -9.52391 ]\n",
            " [15.29887  -9.50661 ]\n",
            " [15.299535 -9.48648 ]\n",
            " [15.294286 -9.482393]\n",
            " [15.293537 -9.467288]\n",
            " [15.290722 -9.455842]\n",
            " [15.284395 -9.43667 ]\n",
            " [15.279251 -9.424774]\n",
            " [15.274458 -9.414058]\n",
            " [15.267816 -9.400688]\n",
            " [15.257486 -9.391178]\n",
            " [15.25196  -9.383615]]\n"
          ],
          "name": "stdout"
        }
      ]
    },
    {
      "cell_type": "markdown",
      "metadata": {
        "id": "q6gUt6A7pKKQ"
      },
      "source": [
        "## 3.3 Evaluation anhand Mean Squared Error / Mean Absolute Error"
      ]
    },
    {
      "cell_type": "code",
      "metadata": {
        "colab": {
          "base_uri": "https://localhost:8080/"
        },
        "id": "ePjQcINdpKKQ",
        "outputId": "e859e2ec-edd2-4f6d-de7f-b787ef431fb4"
      },
      "source": [
        "testScore = mean_absolute_error(transform_to_absolute_points(Y_test.copy().reshape(test_size,12,2), True, True).reshape(test_size,n_predict), predicted_trajectories_test.copy().reshape(test_size,n_predict))\n",
        "print(\"Mean Absolute Error Score (Test):  \",testScore)\n",
        "trainScore = mean_absolute_error(transform_to_absolute_points(Y_train.copy().reshape(train_size,12,2), False, True).reshape(train_size,n_predict), predicted_trajectories_train.copy().reshape(train_size,n_predict))\n",
        "print(\"Mean Absolute Error Score (Train)\",trainScore)\n",
        "testScore = mean_squared_error(transform_to_absolute_points(Y_test.copy().reshape(test_size,12,2), True, True).reshape(test_size,n_predict), predicted_trajectories_test.copy().reshape(test_size,n_predict))\n",
        "print(\"Mean Squared Error Score (Test):  \",testScore)\n",
        "trainScore = mean_squared_error(transform_to_absolute_points(Y_train.copy().reshape(train_size,12,2), False, True).reshape(train_size,n_predict), predicted_trajectories_train.copy().reshape(train_size,n_predict))\n",
        "print(\"Mean Squared Error Score (Train)\",trainScore)"
      ],
      "execution_count": null,
      "outputs": [
        {
          "output_type": "stream",
          "text": [
            "Mean Absolute Error Score (Test):   0.4323312445027794\n",
            "Mean Absolute Error Score (Train) 0.42460563018565683\n",
            "Mean Squared Error Score (Test):   0.8724779445229297\n",
            "Mean Squared Error Score (Train) 0.9211925032112113\n"
          ],
          "name": "stdout"
        }
      ]
    },
    {
      "cell_type": "markdown",
      "metadata": {
        "id": "BrecWjpcpKKQ"
      },
      "source": [
        "Wir können für zwei zufällige Datenpunkte des Testdatensatzes die Abweichung der Vorhersage |Y<sub>Label</sub> - Ŷ<sub>Prediction</sub>| der einzelnen Koordinaten-Werte (24 Stück) berechnen."
      ]
    },
    {
      "cell_type": "code",
      "metadata": {
        "colab": {
          "base_uri": "https://localhost:8080/"
        },
        "id": "_BApIH9tpKKR",
        "outputId": "0b3539ab-ca45-482a-c133-28303ec8950d"
      },
      "source": [
        "labels_train_absolute = transform_to_absolute_points(Y_train.copy().reshape(train_size,12,2), False, True).reshape(train_size,n_predict).reshape(-1,1)\n",
        "predicted_train_absolute = predicted_trajectories_train.copy().reshape(train_size,n_predict).reshape(-1,1)\n",
        "\n",
        "labels_test_absolute = transform_to_absolute_points(Y_test.copy().reshape(test_size,12,2), True, True).reshape(test_size,n_predict).reshape(-1,1)\n",
        "predicted_test_absolute = predicted_trajectories_test.copy().reshape(test_size,n_predict).reshape(-1,1)\n",
        "\n",
        "\n",
        "\n",
        "for i in [randint(0,test_size) for p in range(0,2)]:\n",
        "    print(\"\\nAbweichungen der Werte bei Beispiel \"+str(i)+\": \\n\")\n",
        "    pred = predicted_test_absolute[24*(i-1):24*i]\n",
        "    label = labels_test_absolute[24*(i-1):24*i]\n",
        "    for k in range(len(label)):\n",
        "        print(i, k, abs(label[k] - pred[k]))"
      ],
      "execution_count": null,
      "outputs": [
        {
          "output_type": "stream",
          "text": [
            "\n",
            "Abweichungen der Werte bei Beispiel 908: \n",
            "\n",
            "908 0 [0.01649171]\n",
            "908 1 [0.00097971]\n",
            "908 2 [0.02511483]\n",
            "908 3 [0.00328226]\n",
            "908 4 [0.07623937]\n",
            "908 5 [0.00977392]\n",
            "908 6 [0.09454706]\n",
            "908 7 [0.0022561]\n",
            "908 8 [0.10831335]\n",
            "908 9 [0.00205355]\n",
            "908 10 [0.16576647]\n",
            "908 11 [0.0077365]\n",
            "908 12 [0.18678593]\n",
            "908 13 [0.00536757]\n",
            "908 14 [0.20210527]\n",
            "908 15 [0.01235037]\n",
            "908 16 [0.21429752]\n",
            "908 17 [0.01336317]\n",
            "908 18 [0.23862051]\n",
            "908 19 [0.01675444]\n",
            "908 20 [0.25858282]\n",
            "908 21 [0.01728278]\n",
            "908 22 [0.31177159]\n",
            "908 23 [0.01855879]\n",
            "\n",
            "Abweichungen der Werte bei Beispiel 970: \n",
            "\n",
            "970 0 [0.01236621]\n",
            "970 1 [0.00333408]\n",
            "970 2 [0.03756662]\n",
            "970 3 [0.00575069]\n",
            "970 4 [0.01689426]\n",
            "970 5 [0.00174138]\n",
            "970 6 [0.0081414]\n",
            "970 7 [0.01697156]\n",
            "970 8 [0.04901227]\n",
            "970 9 [0.23398874]\n",
            "970 10 [0.13951347]\n",
            "970 11 [1.16369698]\n",
            "970 12 [0.24487959]\n",
            "970 13 [2.03708264]\n",
            "970 14 [0.30877335]\n",
            "970 15 [2.96894182]\n",
            "970 16 [0.3786979]\n",
            "970 17 [2.96018137]\n",
            "970 18 [0.40328749]\n",
            "970 19 [2.76873973]\n",
            "970 20 [0.49351434]\n",
            "970 21 [2.58429752]\n",
            "970 22 [0.54853853]\n",
            "970 23 [2.37777519]\n"
          ],
          "name": "stdout"
        }
      ]
    },
    {
      "cell_type": "markdown",
      "metadata": {
        "id": "kwf1X7xhpKKR"
      },
      "source": [
        "## 3.4 Perzentile\n",
        "### Perzentile aller Daten"
      ]
    },
    {
      "cell_type": "markdown",
      "metadata": {
        "id": "tPJ_WNA6pKKR"
      },
      "source": [
        "Wir können auch alle Prognosefehlerwerte der Testdaten betrachten und z.B. Perzentile berechnen. "
      ]
    },
    {
      "cell_type": "code",
      "metadata": {
        "colab": {
          "base_uri": "https://localhost:8080/",
          "height": 512
        },
        "id": "tBy85aJZpKKR",
        "outputId": "c1e134c4-46e3-4ab9-c913-f8ff9a8b79b9"
      },
      "source": [
        "plt.rcParams[\"figure.figsize\"] = (10,5)\n",
        "\n",
        "prognose_fehler_testdaten = np.array([])\n",
        "\n",
        "for i in range(len(predicted_test_absolute)):\n",
        "    prognose_fehler_testdaten = np.append(prognose_fehler_testdaten,abs(labels_test_absolute[i]-predicted_test_absolute[i]))\n",
        "\n",
        "idx = 10\n",
        "for p in np.percentile(prognose_fehler_testdaten, [10,20,30,40,50,60,70,80,90]):\n",
        "    print(str(idx)+\"% Perzentil:\", p)\n",
        "    idx += 10\n",
        "\n",
        "plt.bar([\"0.1\",\"0.2\",\"0.3\",\"0.4\",\"0.5\",\"0.6\",\"0.7\",\"0.8\",\"0.9\"],np.percentile(prognose_fehler_testdaten, [10,20,30,40,50,60,70,80,90]))\n",
        "plt.ylabel('Prognosefehler in Meter')\n",
        "plt.xlabel('Perzentil')\n",
        "plt.show()\n",
        "print(\"Median: \",np.median(np.percentile(prognose_fehler_testdaten, [10,20,30,40,50,60,70,80,90])))"
      ],
      "execution_count": null,
      "outputs": [
        {
          "output_type": "stream",
          "text": [
            "10% Perzentil: 0.0065239013671867276\n",
            "20% Perzentil: 0.01688534851074266\n",
            "30% Perzentil: 0.036124394226074406\n",
            "40% Perzentil: 0.06956552734374953\n",
            "50% Perzentil: 0.12628157043456945\n",
            "60% Perzentil: 0.21609199600219747\n",
            "70% Perzentil: 0.36928187437057486\n",
            "80% Perzentil: 0.6331109851837159\n",
            "90% Perzentil: 1.174260047912598\n"
          ],
          "name": "stdout"
        },
        {
          "output_type": "display_data",
          "data": {
            "image/png": "[encoded data removed]",
            "text/plain": [
              "<Figure size 720x360 with 1 Axes>"
            ]
          },
          "metadata": {
            "needs_background": "light"
          }
        },
        {
          "output_type": "stream",
          "text": [
            "Median:  0.12628157043456945\n"
          ],
          "name": "stdout"
        }
      ]
    },
    {
      "cell_type": "markdown",
      "metadata": {
        "id": "vYEdm-8NpKKR"
      },
      "source": [
        "### Perzentile für die erste Position"
      ]
    },
    {
      "cell_type": "code",
      "metadata": {
        "colab": {
          "base_uri": "https://localhost:8080/",
          "height": 512
        },
        "id": "uXIVKgpnpKKR",
        "outputId": "34d84251-4c2d-4947-99b5-824f7e6dc9e9"
      },
      "source": [
        "plt.rcParams[\"figure.figsize\"] = (10,5)\n",
        "\n",
        "prognose_fehler_testdaten = np.array([])\n",
        "\n",
        "k = 0\n",
        "for i in range(len(predicted_test_absolute)):\n",
        "    if k == 0 or k == 1:\n",
        "        prognose_fehler_testdaten = np.append(prognose_fehler_testdaten,abs(labels_test_absolute[i]-predicted_test_absolute[i]))\n",
        "    k += 1\n",
        "    if k == 24:\n",
        "        k = 0\n",
        "\n",
        "idx = 10\n",
        "for p in np.percentile(prognose_fehler_testdaten, [10,20,30,40,50,60,70,80,90]):\n",
        "    print(str(idx)+\"% Perzentil:\", p)\n",
        "    idx += 10\n",
        "\n",
        "plt.bar([\"0.1\",\"0.2\",\"0.3\",\"0.4\",\"0.5\",\"0.6\",\"0.7\",\"0.8\",\"0.9\"],np.percentile(prognose_fehler_testdaten, [10,20,30,40,50,60,70,80,90]))\n",
        "plt.ylabel('Prognosefehler in Meter')\n",
        "plt.xlabel('Perzentil')\n",
        "plt.show()\n",
        "print(\"Median: \",np.median(np.percentile(prognose_fehler_testdaten, [10,20,30,40,50,60,70,80,90])))"
      ],
      "execution_count": null,
      "outputs": [
        {
          "output_type": "stream",
          "text": [
            "10% Perzentil: 0.0021177139282224644\n",
            "20% Perzentil: 0.005283487701413847\n",
            "30% Perzentil: 0.006757387161255489\n",
            "40% Perzentil: 0.01515867156982438\n",
            "50% Perzentil: 0.026386398315429105\n",
            "60% Perzentil: 0.040472005462647134\n",
            "70% Perzentil: 0.06029169616699121\n",
            "80% Perzentil: 0.09005695037841921\n",
            "90% Perzentil: 0.1514321529388431\n"
          ],
          "name": "stdout"
        },
        {
          "output_type": "display_data",
          "data": {
            "image/png": "[encoded data removed]",
            "text/plain": [
              "<Figure size 720x360 with 1 Axes>"
            ]
          },
          "metadata": {
            "needs_background": "light"
          }
        },
        {
          "output_type": "stream",
          "text": [
            "Median:  0.026386398315429105\n"
          ],
          "name": "stdout"
        }
      ]
    },
    {
      "cell_type": "markdown",
      "metadata": {
        "id": "U-i2VcdhpKKS"
      },
      "source": [
        "### Perzentile für die letzte Position"
      ]
    },
    {
      "cell_type": "code",
      "metadata": {
        "colab": {
          "base_uri": "https://localhost:8080/",
          "height": 512
        },
        "id": "eMFFXGo_pKKS",
        "outputId": "377f93cc-70e9-4ca9-f3f3-e328f5a922ba"
      },
      "source": [
        "plt.rcParams[\"figure.figsize\"] = (10,5)\n",
        "\n",
        "prognose_fehler_testdaten = np.array([])\n",
        "\n",
        "k = 0\n",
        "for i in range(len(predicted_test_absolute)):\n",
        "    if k == 22 or k == 23:\n",
        "        prognose_fehler_testdaten = np.append(prognose_fehler_testdaten,abs(labels_test_absolute[i]-predicted_test_absolute[i]))\n",
        "    k += 1\n",
        "    if k == 24:\n",
        "        k = 0\n",
        "\n",
        "idx = 10\n",
        "for p in np.percentile(prognose_fehler_testdaten, [10,20,30,40,50,60,70,80,90]):\n",
        "    print(str(idx)+\"% Perzentil:\", p)\n",
        "    idx += 10\n",
        "\n",
        "plt.bar([\"0.1\",\"0.2\",\"0.3\",\"0.4\",\"0.5\",\"0.6\",\"0.7\",\"0.8\",\"0.9\"],np.percentile(prognose_fehler_testdaten, [10,20,30,40,50,60,70,80,90]))\n",
        "plt.ylabel('Prognosefehler in Meter')\n",
        "plt.xlabel('Perzentil')\n",
        "plt.show()\n",
        "print(\"Median: \",np.median(np.percentile(prognose_fehler_testdaten, [10,20,30,40,50,60,70,80,90])))"
      ],
      "execution_count": null,
      "outputs": [
        {
          "output_type": "stream",
          "text": [
            "10% Perzentil: 0.020223934555054245\n",
            "20% Perzentil: 0.04682966327667226\n",
            "30% Perzentil: 0.10116813755035378\n",
            "40% Perzentil: 0.20266705627441375\n",
            "50% Perzentil: 0.3661966381073003\n",
            "60% Perzentil: 0.6032916908264163\n",
            "70% Perzentil: 0.9306065757751474\n",
            "80% Perzentil: 1.3555083171844489\n",
            "90% Perzentil: 2.193187027359009\n"
          ],
          "name": "stdout"
        },
        {
          "output_type": "display_data",
          "data": {
            "image/png": "[encoded data removed]",
            "text/plain": [
              "<Figure size 720x360 with 1 Axes>"
            ]
          },
          "metadata": {
            "needs_background": "light"
          }
        },
        {
          "output_type": "stream",
          "text": [
            "Median:  0.3661966381073003\n"
          ],
          "name": "stdout"
        }
      ]
    },
    {
      "cell_type": "markdown",
      "metadata": {
        "id": "X7I4w7JzpKKS"
      },
      "source": [
        "# 4. Zusätzlicher Code zur schriftlichen Ausarbeitung"
      ]
    },
    {
      "cell_type": "code",
      "metadata": {
        "colab": {
          "base_uri": "https://localhost:8080/"
        },
        "id": "uox8jfuOpKKS",
        "outputId": "ed4ade1a-93a7-40bd-f269-649992dd2185"
      },
      "source": [
        "from sklearn.preprocessing import StandardScaler\n",
        "data = [[0, 2], \n",
        "        [0, 1], \n",
        "        [1, 1], \n",
        "        [1, 2]]\n",
        "scaler = StandardScaler()\n",
        "scaler.fit(data)\n",
        "print(scaler.mean_) \n",
        "print(scaler.transform(data)) # Daten nach Transformation"
      ],
      "execution_count": null,
      "outputs": [
        {
          "output_type": "stream",
          "text": [
            "[0.5 1.5]\n",
            "[[-1.  1.]\n",
            " [-1. -1.]\n",
            " [ 1. -1.]\n",
            " [ 1.  1.]]\n"
          ],
          "name": "stdout"
        }
      ]
    }
  ]
}